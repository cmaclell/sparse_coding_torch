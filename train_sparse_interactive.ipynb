{
 "cells": [
  {
   "cell_type": "code",
   "execution_count": 2,
   "id": "39b9c221-6cb2-4708-8654-02d0721e19e5",
   "metadata": {},
   "outputs": [],
   "source": [
    "import numpy as np\n",
    "import torch\n",
    "import torchvision\n",
    "from matplotlib import pyplot as plt\n",
    "from matplotlib import cm\n",
    "from sparse_model import SparseLayer\n",
    "\n",
    "from train_sparse_model import load_mnist_data\n",
    "from train_sparse_model import plot_filters"
   ]
  },
  {
   "cell_type": "code",
   "execution_count": 18,
   "id": "b5539999-0694-4928-84f4-8550fffb69fb",
   "metadata": {},
   "outputs": [],
   "source": [
    "device = torch.device(\"cuda:2\" if torch.cuda.is_available() else \"cpu\")\n",
    "if device == \"cpu\":\n",
    "    batch_size = 64\n",
    "else:\n",
    "    batch_size = 4096\n",
    "\n",
    "train_loader = load_mnist_data(batch_size)\n",
    "example_data, example_targets = next(iter(train_loader))\n",
    "\n",
    "idx = 0\n",
    "num_img = 32\n",
    "num_filters = 784\n",
    "imgs = example_data[idx:idx+num_img, 0, :, :].to(device)\n",
    "sparse_layer = SparseLayer(imgs.shape[1], imgs.shape[2], num_filters)\n",
    "sparse_layer.to(device)\n",
    "\n",
    "learning_rate = 1e-3\n",
    "filter_optimizer = torch.optim.Adam(sparse_layer.parameters(),\n",
    "                                    lr=learning_rate)"
   ]
  },
  {
   "cell_type": "code",
   "execution_count": 19,
   "id": "b3ec7e7d-222d-482b-8fae-31aeeaf57c29",
   "metadata": {},
   "outputs": [
    {
     "name": "stdout",
     "output_type": "stream",
     "text": [
      "loss=332.0523376464844\n",
      "loss=292.95654296875\n",
      "loss=263.90325927734375\n",
      "loss=244.70127868652344\n",
      "loss=231.74411010742188\n",
      "loss=220.93212890625\n",
      "loss=213.1378631591797\n",
      "loss=204.97972106933594\n",
      "loss=199.4355926513672\n",
      "loss=193.6648406982422\n",
      "loss=188.51861572265625\n",
      "loss=185.35797119140625\n",
      "loss=180.99485778808594\n",
      "loss=177.09767150878906\n",
      "loss=174.2540283203125\n"
     ]
    }
   ],
   "source": [
    "# for _ in range(20):\n",
    "#     activations = sparse_layer(imgs)\n",
    "#     loss = sparse_layer.loss(imgs, activations)\n",
    "for epoch in range(1):\n",
    "    for local_batch, local_labels in train_loader:\n",
    "        local_batch = local_batch.to(device)\n",
    "        local_labels = local_labels.to(device)\n",
    "        activations = sparse_layer(local_batch[:, 0, :, :])\n",
    "        loss = sparse_layer.loss(local_batch[:, 0, :, :], activations)\n",
    "        print('loss={}'.format(loss))\n",
    "\n",
    "        filter_optimizer.zero_grad()\n",
    "        loss.backward()\n",
    "        filter_optimizer.step()\n",
    "        sparse_layer.normalize_weights()"
   ]
  },
  {
   "cell_type": "code",
   "execution_count": 20,
   "id": "9a8e55d6-d15e-484f-af18-93587495cf8e",
   "metadata": {},
   "outputs": [
    {
     "name": "stdout",
     "output_type": "stream",
     "text": [
      "SHAPES\n",
      "torch.Size([32, 28, 28])\n",
      "(32, 28, 28)\n"
     ]
    },
    {
     "data": {
      "image/png": "[encoded data removed]",
      "text/plain": [
       "<Figure size 432x288 with 6 Axes>"
      ]
     },
     "metadata": {},
     "output_type": "display_data"
    }
   ],
   "source": [
    "activations = sparse_layer(imgs)\n",
    "reconstructions = sparse_layer.reconstructions(\n",
    "    activations).cpu().detach().numpy()\n",
    "\n",
    "print(\"SHAPES\")\n",
    "print(imgs.shape)\n",
    "print(reconstructions.shape)\n",
    "\n",
    "fig = plt.figure()\n",
    "\n",
    "img_to_show = 3\n",
    "for i in range(img_to_show):\n",
    "    # original\n",
    "    plt.subplot(img_to_show, 2, i*2 + 1)\n",
    "    plt.tight_layout()\n",
    "    plt.imshow(example_data[idx+i, 0, :, :], cmap='gray',\n",
    "               interpolation='none')\n",
    "    plt.title(\"Original Image\\nGround Truth: {}\".format(\n",
    "        example_targets[idx]))\n",
    "    plt.xticks([])\n",
    "    plt.yticks([])\n",
    "\n",
    "    # reconstruction\n",
    "    plt.subplot(img_to_show, 2, i*2 + 2)\n",
    "    plt.tight_layout()\n",
    "    plt.imshow(reconstructions[i, :, :], cmap='gray',\n",
    "               interpolation='none')\n",
    "    plt.title(\"Reconstruction\")\n",
    "    plt.xticks([])\n",
    "    plt.yticks([])"
   ]
  },
  {
   "cell_type": "code",
   "execution_count": 17,
   "id": "fbbd7207-331f-4280-8edb-83b6e809a92f",
   "metadata": {},
   "outputs": [],
   "source": [
    "# plot_filters(sparse_layer.filters.cpu().detach())"
   ]
  }
 ],
 "metadata": {
  "kernelspec": {
   "display_name": "chris-py3.9.6",
   "language": "python",
   "name": "chris-py3.9.6"
  },
  "language_info": {
   "codemirror_mode": {
    "name": "ipython",
    "version": 3
   },
   "file_extension": ".py",
   "mimetype": "text/x-python",
   "name": "python",
   "nbconvert_exporter": "python",
   "pygments_lexer": "ipython3",
   "version": "3.9.6"
  }
 },
 "nbformat": 4,
 "nbformat_minor": 5
}
