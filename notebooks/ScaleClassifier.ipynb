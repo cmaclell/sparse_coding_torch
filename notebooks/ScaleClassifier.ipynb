{
 "cells": [
  {
   "cell_type": "code",
   "execution_count": 11,
   "id": "cfadcd86-0de0-4ea2-81de-d8f2315d1542",
   "metadata": {},
   "outputs": [],
   "source": [
    "import torch\n",
    "import torchvision\n",
    "from torch.utils.data import Dataset\n",
    "import os\n",
    "from PIL import Image"
   ]
  },
  {
   "cell_type": "code",
   "execution_count": 12,
   "id": "850ef8bf-fba3-4cab-a875-91b958603afc",
   "metadata": {},
   "outputs": [],
   "source": [
    "from os import listdir\n",
    "from os.path import isfile\n",
    "from os.path import join\n",
    "from os.path import isdir\n",
    "from os.path import abspath\n",
    "\n",
    "class CustomDataSet(Dataset):\n",
    "    def __init__(self, main_dir):\n",
    "        self.main_dir = main_dir\n",
    "        self.transform = torchvision.transforms.Compose([\n",
    "            torchvision.transforms.ToTensor(),\n",
    "            # torchvision.transforms.Grayscale(num_output_channels=1)\n",
    "        ])\n",
    "        all_imgs = os.listdir(main_dir)\n",
    "        self.total_imgs = all_imgs\n",
    "        \n",
    "        self.labels = [name for name in listdir(main_dir) if isdir(join(main_dir, name))]\n",
    "        self.imgs = []\n",
    "        for label in self.labels:\n",
    "            self.imgs.extend([(label, abspath(join(main_dir, label, f))) for f in listdir(join(main_dir, label)) if isfile(join(main_dir, label, f))])      \n",
    "            \n",
    "    def __len__(self):\n",
    "        return len(self.imgs)\n",
    "\n",
    "    def __getitem__(self, idx):\n",
    "        img_label, img_loc = self.imgs[idx]\n",
    "        image = Image.open(img_loc)# .convert(\"RGB\")\n",
    "        tensor_image = self.transform(image)\n",
    "        return img_label, tensor_image"
   ]
  },
  {
   "cell_type": "code",
   "execution_count": 13,
   "id": "95403ea4-e7b8-4420-86a6-de2c070fcb4a",
   "metadata": {},
   "outputs": [],
   "source": [
    "img_data = CustomDataSet('scales/')\n",
    "\n",
    "label_map = {\n",
    "            '12cm': 0,\n",
    "            '5cm': 1,\n",
    "            '16cm': 2\n",
    "}\n",
    "\n",
    "targets = torch.tensor([label_map[label] for label, path in img_data.imgs])\n",
    "class_counts = torch.bincount(targets)\n",
    "\n",
    "weights = 1. / class_counts\n",
    "samples_weights = weights[targets]\n",
    "sampler = torch.utils.data.sampler.WeightedRandomSampler(samples_weights, len(samples_weights), replacement=True)\n",
    "\n",
    "train_loader = torch.utils.data.DataLoader(dataset=img_data, batch_size=8, sampler=sampler)\n",
    "#train_loader = torch.utils.data.DataLoader(img_data, batch_size=12, shuffle=True)"
   ]
  },
  {
   "cell_type": "code",
   "execution_count": 19,
   "id": "6df2c5f1-45e3-4f1f-83e4-cef73d230082",
   "metadata": {},
   "outputs": [
    {
     "data": {
      "text/plain": [
       "('16cm', '16cm', '5cm', '12cm', '5cm', '16cm', '5cm', '12cm')"
      ]
     },
     "execution_count": 19,
     "metadata": {},
     "output_type": "execute_result"
    }
   ],
   "source": [
    "example = next(iter(train_loader))\n",
    "example[0]"
   ]
  },
  {
   "cell_type": "code",
   "execution_count": 5,
   "id": "9d24dacd-0852-49d8-9c8d-1c939cf61d65",
   "metadata": {},
   "outputs": [],
   "source": [
    "import torch.nn as nn\n",
    "import torch.nn.functional as F\n",
    "\n",
    "class Net(nn.Module):\n",
    "    def __init__(self):\n",
    "        super().__init__()\n",
    "        self.conv1 = nn.Conv2d(1, 6, 5)\n",
    "        self.pool = nn.MaxPool2d(2, 2)\n",
    "        #self.conv2 = nn.Conv2d(6, 16, 5)\n",
    "        #self.fc1 = nn.Linear(16 * 5 * 5, 120)\n",
    "        self.fc2 = nn.Linear(2064, 128)\n",
    "        self.dropout = torch.nn.Dropout(p=0.4)\n",
    "        self.fc3 = nn.Linear(128, 3)\n",
    "\n",
    "    def forward(self, x):\n",
    "        x = self.pool(F.relu(self.conv1(x)))\n",
    "        #x = self.pool(F.relu(self.conv2(x)))\n",
    "        x = torch.flatten(x, 1) # flatten all dimensions except batch\n",
    "        #x = F.relu(self.fc1(x))\n",
    "        x = F.relu(self.fc2(x))\n",
    "        x = self.dropout(x)\n",
    "        x = self.fc3(x)\n",
    "        return x"
   ]
  },
  {
   "cell_type": "code",
   "execution_count": 6,
   "id": "f4dc827a-ea42-411e-9aff-705c8563b2ba",
   "metadata": {},
   "outputs": [
    {
     "data": {
      "text/plain": [
       "Net(\n",
       "  (conv1): Conv2d(1, 6, kernel_size=(5, 5), stride=(1, 1))\n",
       "  (pool): MaxPool2d(kernel_size=2, stride=2, padding=0, dilation=1, ceil_mode=False)\n",
       "  (fc2): Linear(in_features=2064, out_features=128, bias=True)\n",
       "  (dropout): Dropout(p=0.4, inplace=False)\n",
       "  (fc3): Linear(in_features=128, out_features=3, bias=True)\n",
       ")"
      ]
     },
     "execution_count": 6,
     "metadata": {},
     "output_type": "execute_result"
    }
   ],
   "source": [
    "net = Net()\n",
    "device = 'cuda:1'\n",
    "net.to(device)"
   ]
  },
  {
   "cell_type": "code",
   "execution_count": 7,
   "id": "ed0e6e0e-02da-494e-9e89-51a1b9627ae8",
   "metadata": {},
   "outputs": [],
   "source": [
    "import torch.optim as optim\n",
    "\n",
    "criterion = nn.CrossEntropyLoss()\n",
    "optimizer = optim.SGD(net.parameters(), lr=1e-4, momentum=0.9)"
   ]
  },
  {
   "cell_type": "code",
   "execution_count": 8,
   "id": "d5cb9518-af2e-43c8-b937-f38d1ef6d3c0",
   "metadata": {},
   "outputs": [],
   "source": [
    "from matplotlib import pyplot as plt"
   ]
  },
  {
   "cell_type": "code",
   "execution_count": 9,
   "id": "f41f52e5-dbd0-446e-b896-4eac5b29861e",
   "metadata": {},
   "outputs": [
    {
     "name": "stderr",
     "output_type": "stream",
     "text": [
      "/srv/jupyterhub/lib/python3.9/site-packages/torch/nn/functional.py:718: UserWarning: Named tensors and all their associated APIs are an experimental feature and subject to change. Please do not use them for anything important until they are released as stable. (Triggered internally at  /pytorch/c10/core/TensorImpl.h:1156.)\n",
      "  return torch.max_pool2d(input, kernel_size, stride, padding, dilation, ceil_mode)\n"
     ]
    },
    {
     "data": {
      "text/plain": [
       "[<matplotlib.lines.Line2D at 0x7fa0300ef310>]"
      ]
     },
     "execution_count": 9,
     "metadata": {},
     "output_type": "execute_result"
    },
    {
     "data": {
      "image/png": "[encoded data removed]",
      "text/plain": [
       "<Figure size 432x288 with 1 Axes>"
      ]
     },
     "metadata": {
      "needs_background": "light"
     },
     "output_type": "display_data"
    }
   ],
   "source": [
    "loss_log = []\n",
    "for epoch in range(500):  # loop over the dataset multiple times\n",
    "\n",
    "    running_loss = 0.0\n",
    "    for i, data in enumerate(train_loader, 0):\n",
    "        # get the inputs; data is a list of [inputs, labels]\n",
    "        labels, inputs = data\n",
    "        inputs = inputs.to(device)\n",
    "        \n",
    "        label_map = {\n",
    "            '12cm': 0,\n",
    "            '5cm': 1,\n",
    "            '16cm': 2\n",
    "        }\n",
    "        # print(inputs.max())\n",
    "        labels = torch.tensor([label_map[e] for e in labels]).to(device)\n",
    "        # print(labels)\n",
    "\n",
    "        # zero the parameter gradients\n",
    "        optimizer.zero_grad()\n",
    "\n",
    "        # forward + backward + optimize\n",
    "        outputs = net(inputs)\n",
    "        loss = criterion(outputs, labels)\n",
    "        loss.backward()\n",
    "        optimizer.step()\n",
    "\n",
    "        # print statistics\n",
    "        running_loss += loss.item()\n",
    "    loss_log.append(running_loss)\n",
    "\n",
    "    #print('loss: %.5f' % (running_loss))\n",
    "     \n",
    "plt.plot(loss_log)\n",
    "#print('Finished Training')"
   ]
  },
  {
   "cell_type": "code",
   "execution_count": 10,
   "id": "a70c5199-2684-4048-ba26-114c9f0eacdf",
   "metadata": {},
   "outputs": [],
   "source": [
    "torch.save(net.state_dict(), 'scale_classifier_weights.pt')"
   ]
  },
  {
   "cell_type": "code",
   "execution_count": null,
   "id": "e57ce2b9-9ec6-4444-b9b9-cf8bcf6d4d92",
   "metadata": {},
   "outputs": [],
   "source": []
  }
 ],
 "metadata": {
  "kernelspec": {
   "display_name": "Python 3 (ipykernel)",
   "language": "python",
   "name": "python3"
  },
  "language_info": {
   "codemirror_mode": {
    "name": "ipython",
    "version": 3
   },
   "file_extension": ".py",
   "mimetype": "text/x-python",
   "name": "python",
   "nbconvert_exporter": "python",
   "pygments_lexer": "ipython3",
   "version": "3.9.6"
  }
 },
 "nbformat": 4,
 "nbformat_minor": 5
}
